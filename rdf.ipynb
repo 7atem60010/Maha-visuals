{
  "nbformat": 4,
  "nbformat_minor": 0,
  "metadata": {
    "colab": {
      "name": "rdf.ipynb",
      "provenance": [],
      "collapsed_sections": []
    },
    "kernelspec": {
      "name": "python3",
      "display_name": "Python 3"
    }
  },
  "cells": [
    {
      "cell_type": "code",
      "metadata": {
        "colab": {
          "base_uri": "https://localhost:8080/"
        },
        "id": "ofahnTLodkI0",
        "outputId": "bbc7d9d5-41af-4be4-8d08-a4f09f24e513"
      },
      "source": [
        "!pip3 install rdflib"
      ],
      "execution_count": null,
      "outputs": [
        {
          "output_type": "stream",
          "text": [
            "Requirement already satisfied: rdflib in /usr/local/lib/python3.7/dist-packages (5.0.0)\n",
            "Requirement already satisfied: isodate in /usr/local/lib/python3.7/dist-packages (from rdflib) (0.6.0)\n",
            "Requirement already satisfied: pyparsing in /usr/local/lib/python3.7/dist-packages (from rdflib) (2.4.7)\n",
            "Requirement already satisfied: six in /usr/local/lib/python3.7/dist-packages (from rdflib) (1.15.0)\n"
          ],
          "name": "stdout"
        }
      ]
    },
    {
      "cell_type": "code",
      "metadata": {
        "id": "Qpfr5AztewJC",
        "colab": {
          "base_uri": "https://localhost:8080/"
        },
        "outputId": "a97aed34-4ff9-45be-e2a9-97b9c906fd90"
      },
      "source": [
        "from rdflib import Graph, Literal, RDF, URIRef\n",
        "# rdflib knows about some namespaces, like FOAF\n",
        "from rdflib.namespace import FOAF , XSD, SKOS\n",
        "\n",
        "# create a Graph\n",
        "g = Graph()\n",
        "\n",
        "# Create an RDF URI node to use as the subject for multiple triples\n",
        "donna = URIRef(\"http://example.org/donna\")\n",
        "\n",
        "# Add triples using store's add() method.\n",
        "g.add((donna, RDF.type, FOAF.Person))\n",
        "g.add((donna, FOAF.nick, Literal(\"donna\", lang=\"ed\")))\n",
        "g.add((donna, FOAF.name, Literal(\"Donna Fales\")))\n",
        "g.add((donna, FOAF.mbox, URIRef(\"mailto:donna@example.org\")))\n",
        "\n",
        "# Add another person\n",
        "ed = URIRef(\"http://example.org/edward\")\n",
        "\n",
        "# Add triples using store's add() method.\n",
        "g.add((ed, RDF.type, FOAF.Person))\n",
        "g.add((ed, FOAF.nick, Literal(\"ed\", datatype=XSD.string)))\n",
        "g.add((ed, FOAF.name, Literal(\"Edward Scissorhands\")))\n",
        "g.add((ed, FOAF.mbox, URIRef(\"mailto:e.scissorhands@example.org\")))\n",
        "\n",
        "# Iterate over triples in store and print them out.\n",
        "print(\"--- printing raw triples ---\")\n",
        "for s, p, o in g:\n",
        "    print((s, p, o))\n",
        "\n",
        "# For each foaf:Person in the store, print out their mbox property's value.\n",
        "print(\"--- printing mboxes ---\")\n",
        "for person in g.subjects(RDF.type, FOAF.Person):\n",
        "    for mbox in g.objects(person, FOAF.mbox):\n",
        "        print(mbox)\n",
        "\n",
        "# Bind the FOAF namespace to a prefix for more readable output\n",
        "g.bind(\"foaf\", FOAF)\n",
        "\n",
        "# print all the data in the Notation3 format\n",
        "print(\"--- printing mboxes ---\")\n",
        "print(g.serialize(format='n3').decode(\"utf-8\"))"
      ],
      "execution_count": null,
      "outputs": [
        {
          "output_type": "stream",
          "text": [
            "--- printing raw triples ---\n",
            "(rdflib.term.URIRef('http://example.org/edward'), rdflib.term.URIRef('http://xmlns.com/foaf/0.1/name'), rdflib.term.Literal('Edward Scissorhands'))\n",
            "(rdflib.term.URIRef('http://example.org/edward'), rdflib.term.URIRef('http://xmlns.com/foaf/0.1/nick'), rdflib.term.Literal('ed', datatype=rdflib.term.URIRef('http://www.w3.org/2001/XMLSchema#string')))\n",
            "(rdflib.term.URIRef('http://example.org/donna'), rdflib.term.URIRef('http://xmlns.com/foaf/0.1/mbox'), rdflib.term.URIRef('mailto:donna@example.org'))\n",
            "(rdflib.term.URIRef('http://example.org/donna'), rdflib.term.URIRef('http://www.w3.org/1999/02/22-rdf-syntax-ns#type'), rdflib.term.URIRef('http://xmlns.com/foaf/0.1/Person'))\n",
            "(rdflib.term.URIRef('http://example.org/donna'), rdflib.term.URIRef('http://xmlns.com/foaf/0.1/nick'), rdflib.term.Literal('donna', lang='ed'))\n",
            "(rdflib.term.URIRef('http://example.org/edward'), rdflib.term.URIRef('http://www.w3.org/1999/02/22-rdf-syntax-ns#type'), rdflib.term.URIRef('http://xmlns.com/foaf/0.1/Person'))\n",
            "(rdflib.term.URIRef('http://example.org/edward'), rdflib.term.URIRef('http://xmlns.com/foaf/0.1/mbox'), rdflib.term.URIRef('mailto:e.scissorhands@example.org'))\n",
            "(rdflib.term.URIRef('http://example.org/donna'), rdflib.term.URIRef('http://xmlns.com/foaf/0.1/name'), rdflib.term.Literal('Donna Fales'))\n",
            "--- printing mboxes ---\n",
            "mailto:donna@example.org\n",
            "mailto:e.scissorhands@example.org\n",
            "--- printing mboxes ---\n",
            "@prefix foaf: <http://xmlns.com/foaf/0.1/> .\n",
            "@prefix xsd: <http://www.w3.org/2001/XMLSchema#> .\n",
            "\n",
            "<http://example.org/donna> a foaf:Person ;\n",
            "    foaf:mbox <mailto:donna@example.org> ;\n",
            "    foaf:name \"Donna Fales\" ;\n",
            "    foaf:nick \"donna\"@ed .\n",
            "\n",
            "<http://example.org/edward> a foaf:Person ;\n",
            "    foaf:mbox <mailto:e.scissorhands@example.org> ;\n",
            "    foaf:name \"Edward Scissorhands\" ;\n",
            "    foaf:nick \"ed\"^^xsd:string .\n",
            "\n",
            "\n"
          ],
          "name": "stdout"
        }
      ]
    },
    {
      "cell_type": "code",
      "metadata": {
        "id": "Wcs1AWYpeyt8"
      },
      "source": [
        "from rdflib import Graph, Literal, RDF, URIRef, PROV\n",
        "# rdflib knows about some namespaces, like FOAF\n",
        "from rdflib.namespace import FOAF , XSD, SKOS\n",
        "import pandas as pd\n",
        "\n",
        "\n",
        "g = Graph()\n",
        "g.bind(\"foaf\", FOAF)\n",
        "g.bind(\"skos\", SKOS)\n",
        "\n",
        "#industries\n",
        "industries = URIRef('http://enakting.org/stats/industries')\n",
        "var = industries\n",
        "g.add((var, RDF.type, SKOS.Concept))\n",
        "g.add((var, FOAF.title, Literal('Industries')))\n",
        "g.add((var, PROV.generatedAtTime, Literal(\"7-May-2020\")))\n",
        "g.add((var, FOAF.mbox, Literal(\"bics@ons.gov.uk\")))\n",
        "df1 = pd.read_excel('/content/DataSetCW.xlsx', sheet_name='Sample Size AC', header=3, )[:15].drop('Unnamed: 4',axis=1)\n",
        "for ind,tot in zip(df1.Industry, df1.Total):\n",
        "    g.add((var, SKOS.memberList, Literal(ind)))\n",
        "    g.add((var, PROV.value, Literal(tot)))\n",
        "\n",
        "#response_rate\n",
        "response_rate = URIRef('http://enakting.org/stats/response_rate')\n",
        "var = response_rate\n",
        "g.add((var, RDF.type, SKOS.Concept))\n",
        "g.add((var, FOAF.title, Literal('Response Rates')))\n",
        "g.add((var, PROV.generatedAtTime, Literal(\"7-May-2020\")))\n",
        "g.add((var, FOAF.mbox, Literal(\"bics@ons.gov.uk\")))\n",
        "df2 = pd.read_excel('/content/DataSetCW.xlsx', sheet_name='Response Rates AC', header=3, )[:13].drop(['Unnamed: 5','Unnamed: 10'],axis=1)\n",
        "for ind,tot in zip(df2.Industry, df2.Total):\n",
        "    g.add((var, SKOS.memberList, Literal(ind)))\n",
        "    g.add((var, PROV.value, Literal(tot)))\n",
        "\n",
        "#trading_status\n",
        "trading_status = URIRef('http://enakting.org/stats/trading_status')\n",
        "var = trading_status\n",
        "g.add((var, RDF.type, SKOS.Concept))\n",
        "g.add((var, FOAF.title, Literal('Trading Status')))\n",
        "g.add((var, PROV.generatedAtTime, Literal(\"7-May-2020\")))\n",
        "g.add((var, FOAF.mbox, Literal(\"bics@ons.gov.uk\")))\n",
        "df3 = pd.read_excel('/content/DataSetCW.xlsx', sheet_name='Trading Status AC', header=3, )[:13]#.drop(['Unnamed: 5','Unnamed: 10'],axis=1)\n",
        "for ind,tot in zip(df3.Industry, df3['Continuing to trade']):\n",
        "    g.add((var, SKOS.memberList, Literal(ind)))\n",
        "    g.add((var, PROV.value, Literal(tot)))\n",
        "\n",
        "#GOV1\n",
        "gov_scheme_1 = URIRef('http://enakting.org/stats/Government_Scheme_1')\n",
        "var = gov_scheme_1\n",
        "g.add((var, RDF.type, SKOS.Concept))\n",
        "g.add((var, FOAF.title, Literal('Government Scheme 1')))\n",
        "g.add((var, PROV.generatedAtTime, Literal(\"7-May-2020\")))\n",
        "g.add((var, FOAF.mbox, Literal(\"bics@ons.gov.uk\")))\n",
        "df4 = pd.read_excel('/content/DataSetCW.xlsx', sheet_name=5, header=3, )[:13]#.drop(['Unnamed: 5','Unnamed: 10'],axis=1)\n",
        "for ind,tot in zip(df4.Industry, df4['Coronavirus Job Retention Scheme']):\n",
        "    g.add((var, SKOS.memberList, Literal(ind)))\n",
        "    g.add((var, PROV.value, Literal(tot)))\n",
        "\n",
        "#GOV2\n",
        "gov_scheme_2 = URIRef('http://enakting.org/stats/Government_Scheme_2')\n",
        "var = gov_scheme_2\n",
        "g.add((var, RDF.type, SKOS.Concept))\n",
        "g.add((var, FOAF.title, Literal('Government Scheme 2')))\n",
        "g.add((var, PROV.generatedAtTime, Literal(\"7-May-2020\")))\n",
        "g.add((var, FOAF.mbox, Literal(\"bics@ons.gov.uk\")))\n",
        "df5 = pd.read_excel('/content/DataSetCW.xlsx', sheet_name=6, header=3, )[:13]#.drop(['Unnamed: 5','Unnamed: 10'],axis=1)\n",
        "for ind,tot in zip(df5.Industry, df5['Coronavirus Job Retention Scheme']):\n",
        "    g.add((var, SKOS.memberList, Literal(ind)))\n",
        "    g.add((var, PROV.value, Literal(tot)))\n",
        "\n",
        "#GOV3\n",
        "gov_scheme_3 = URIRef('http://enakting.org/stats/Government_Scheme_3')\n",
        "var = gov_scheme_3\n",
        "g.add((var, RDF.type, SKOS.Concept))\n",
        "g.add((var, FOAF.title, Literal('Government Scheme 3')))\n",
        "g.add((var, PROV.generatedAtTime, Literal(\"7-May-2020\")))\n",
        "g.add((var, FOAF.mbox, Literal(\"bics@ons.gov.uk\")))\n",
        "df6 = pd.read_excel('/content/DataSetCW.xlsx', sheet_name=7, header=3, )[:13]#.drop(['Unnamed: 5','Unnamed: 10'],axis=1)\n",
        "for ind,tot in zip(df6.Industry, df6['Coronavirus Job Retention Scheme']):\n",
        "    g.add((var, SKOS.memberList, Literal(ind)))\n",
        "    g.add((var, PROV.value, Literal(tot)))\n",
        "\n",
        "\n",
        "\n",
        "# print all the data in the Notation3 format\n",
        "with open('file.ttl','w') as f:\n",
        "    print(g.serialize(format='n3').decode(\"utf-8\"), file=f)"
      ],
      "execution_count": null,
      "outputs": []
    },
    {
      "cell_type": "code",
      "metadata": {
        "id": "c1eygyRaXKwp",
        "colab": {
          "base_uri": "https://localhost:8080/",
          "height": 145
        },
        "outputId": "75a52fc7-3973-43e9-accb-efa49cbe615a"
      },
      "source": [
        "\"\"\"\n",
        "SKOV\n",
        "    terms=[\n",
        "        # all taken from https://www.w3.org/TR/skos-reference/#L1302\n",
        "        'Concept', 'ConceptScheme', 'inScheme', 'hasTopConcept', 'topConceptOf',\n",
        "        'altLabel', 'hiddenLabel', 'prefLabel', 'notation', 'changeNote',\n",
        "        'definition', 'editorialNote', 'example', 'historyNote', 'note',\n",
        "        'scopeNote', 'broader', 'broaderTransitive', 'narrower', 'narrowerTransitive',\n",
        "        'related', 'semanticRelation', 'Collection', 'OrderedCollection', 'member',\n",
        "        'memberList', 'broadMatch', 'closeMatch', 'exactMatch', 'mappingRelation',\n",
        "        'narrowMatch', 'relatedMatch'\n",
        "    ]\n",
        "\n",
        "    PROV = ClosedNamespace(\n",
        "    uri=URIRef('http://www.w3.org/ns/prov#'),\n",
        "    terms=[\n",
        "        'Entity', 'Activity', 'Agent', 'wasGeneratedBy', 'wasDerivedFrom',\n",
        "        'wasAttributedTo', 'startedAtTime', 'used', 'wasInformedBy', 'endedAtTime',\n",
        "        'wasAssociatedWith', 'actedOnBehalfOf', 'Collection', 'EmptyCollection', 'Bundle',\n",
        "        'Person', 'SoftwareAgent', 'Organization', 'Location', 'alternateOf',\n",
        "        'specializationOf', 'generatedAtTime', 'hadPrimarySource', 'value', 'wasQuotedFrom',\n",
        "        'wasRevisionOf', 'invalidatedAtTime', 'wasInvalidatedBy', 'hadMember', 'wasStartedBy',\n",
        "        'wasEndedBy', 'invalidated', 'influenced', 'atLocation', 'generated',\n",
        "        'Influence', 'EntityInfluence', 'Usage', 'Start', 'End',\n",
        "        'Derivation', 'PrimarySource', 'Quotation', 'Revision', 'ActivityInfluence',\n",
        "        'Generation', 'Communication', 'Invalidation', 'AgentInfluence',\n",
        "        'Attribution', 'Association', 'Plan', 'Delegation', 'InstantaneousEvent',\n",
        "        'Role', 'wasInfluencedBy', 'qualifiedInfluence', 'qualifiedGeneration', 'qualifiedDerivation',\n",
        "        'qualifiedPrimarySource', 'qualifiedQuotation', 'qualifiedRevision', 'qualifiedAttribution',\n",
        "        'qualifiedInvalidation', 'qualifiedStart', 'qualifiedUsage', 'qualifiedCommunication', 'qualifiedAssociation',\n",
        "        'qualifiedEnd', 'qualifiedDelegation', 'influencer', 'entity', 'hadUsage', 'hadGeneration',\n",
        "        'activity', 'agent', 'hadPlan', 'hadActivity', 'atTime', 'hadRole'\n",
        "    ]\n",
        ")\n",
        "\n",
        "FOAF = ClosedNamespace(\n",
        "    uri=URIRef('http://xmlns.com/foaf/0.1/'),\n",
        "    terms=[\n",
        "        # all taken from http://xmlns.com/foaf/spec/\n",
        "        'Agent', 'Person', 'name', 'title', 'img',\n",
        "        'depiction', 'depicts', 'familyName',\n",
        "        'givenName', 'knows', 'based_near', 'age', 'made',\n",
        "        'maker', 'primaryTopic', 'primaryTopicOf', 'Project', 'Organization',\n",
        "        'Group', 'member', 'Document', 'Image', 'nick',\n",
        "        'mbox', 'homepage', 'weblog', 'openid', 'jabberID',\n",
        "        'mbox_sha1sum', 'interest', 'topic_interest', 'topic', 'page',\n",
        "        'workplaceHomepage', 'workInfoHomepage', 'schoolHomepage', 'publications', 'currentProject',\n",
        "        'pastProject', 'account', 'OnlineAccount', 'accountName', 'accountServiceHomepage',\n",
        "        'PersonalProfileDocument', 'tipjar', 'sha1', 'thumbnail', 'logo'\n",
        "    ]\n",
        ")\n",
        "\"\"\""
      ],
      "execution_count": null,
      "outputs": [
        {
          "output_type": "execute_result",
          "data": {
            "application/vnd.google.colaboratory.intrinsic+json": {
              "type": "string"
            },
            "text/plain": [
              "\"\\nSKOV\\n    terms=[\\n        # all taken from https://www.w3.org/TR/skos-reference/#L1302\\n        'Concept', 'ConceptScheme', 'inScheme', 'hasTopConcept', 'topConceptOf',\\n        'altLabel', 'hiddenLabel', 'prefLabel', 'notation', 'changeNote',\\n        'definition', 'editorialNote', 'example', 'historyNote', 'note',\\n        'scopeNote', 'broader', 'broaderTransitive', 'narrower', 'narrowerTransitive',\\n        'related', 'semanticRelation', 'Collection', 'OrderedCollection', 'member',\\n        'memberList', 'broadMatch', 'closeMatch', 'exactMatch', 'mappingRelation',\\n        'narrowMatch', 'relatedMatch'\\n    ]\\n\\n    PROV = ClosedNamespace(\\n    uri=URIRef('http://www.w3.org/ns/prov#'),\\n    terms=[\\n        'Entity', 'Activity', 'Agent', 'wasGeneratedBy', 'wasDerivedFrom',\\n        'wasAttributedTo', 'startedAtTime', 'used', 'wasInformedBy', 'endedAtTime',\\n        'wasAssociatedWith', 'actedOnBehalfOf', 'Collection', 'EmptyCollection', 'Bundle',\\n        'Person', 'SoftwareAgent', 'Organization', 'Location', 'alternateOf',\\n        'specializationOf', 'generatedAtTime', 'hadPrimarySource', 'value', 'wasQuotedFrom',\\n        'wasRevisionOf', 'invalidatedAtTime', 'wasInvalidatedBy', 'hadMember', 'wasStartedBy',\\n        'wasEndedBy', 'invalidated', 'influenced', 'atLocation', 'generated',\\n        'Influence', 'EntityInfluence', 'Usage', 'Start', 'End',\\n        'Derivation', 'PrimarySource', 'Quotation', 'Revision', 'ActivityInfluence',\\n        'Generation', 'Communication', 'Invalidation', 'AgentInfluence',\\n        'Attribution', 'Association', 'Plan', 'Delegation', 'InstantaneousEvent',\\n        'Role', 'wasInfluencedBy', 'qualifiedInfluence', 'qualifiedGeneration', 'qualifiedDerivation',\\n        'qualifiedPrimarySource', 'qualifiedQuotation', 'qualifiedRevision', 'qualifiedAttribution',\\n        'qualifiedInvalidation', 'qualifiedStart', 'qualifiedUsage', 'qualifiedCommunication', 'qualifiedAssociation',\\n        'qualifiedEnd', 'qualifiedDelegation', 'influencer', 'entity', 'hadUsage', 'hadGeneration',\\n        'activity', 'agent', 'hadPlan', 'hadActivity', 'atTime', 'hadRole'\\n    ]\\n)\\n\\nFOAF = ClosedNamespace(\\n    uri=URIRef('http://xmlns.com/foaf/0.1/'),\\n    terms=[\\n        # all taken from http://xmlns.com/foaf/spec/\\n        'Agent', 'Person', 'name', 'title', 'img',\\n        'depiction', 'depicts', 'familyName',\\n        'givenName', 'knows', 'based_near', 'age', 'made',\\n        'maker', 'primaryTopic', 'primaryTopicOf', 'Project', 'Organization',\\n        'Group', 'member', 'Document', 'Image', 'nick',\\n        'mbox', 'homepage', 'weblog', 'openid', 'jabberID',\\n        'mbox_sha1sum', 'interest', 'topic_interest', 'topic', 'page',\\n        'workplaceHomepage', 'workInfoHomepage', 'schoolHomepage', 'publications', 'currentProject',\\n        'pastProject', 'account', 'OnlineAccount', 'accountName', 'accountServiceHomepage',\\n        'PersonalProfileDocument', 'tipjar', 'sha1', 'thumbnail', 'logo'\\n    ]\\n)\\n\""
            ]
          },
          "metadata": {
            "tags": []
          },
          "execution_count": 7
        }
      ]
    },
    {
      "cell_type": "code",
      "metadata": {
        "id": "TAizbV0JyNN7"
      },
      "source": [
        ""
      ],
      "execution_count": null,
      "outputs": []
    }
  ]
}